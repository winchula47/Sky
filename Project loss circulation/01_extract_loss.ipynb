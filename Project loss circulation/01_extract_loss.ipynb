{
 "cells": [
  {
   "cell_type": "code",
   "execution_count": 1,
   "id": "d6242a3b",
   "metadata": {},
   "outputs": [],
   "source": [
    "import pandas as pd\n",
    "\n",
    "# read the input csv file into a pandas dataframe\n",
    "df = pd.read_csv('loss-circulation.csv',encoding= 'unicode_escape')"
   ]
  },
  {
   "cell_type": "code",
   "execution_count": 2,
   "id": "db53156b",
   "metadata": {},
   "outputs": [
    {
     "data": {
      "text/html": [
       "<div>\n",
       "<style scoped>\n",
       "    .dataframe tbody tr th:only-of-type {\n",
       "        vertical-align: middle;\n",
       "    }\n",
       "\n",
       "    .dataframe tbody tr th {\n",
       "        vertical-align: top;\n",
       "    }\n",
       "\n",
       "    .dataframe thead th {\n",
       "        text-align: right;\n",
       "    }\n",
       "</style>\n",
       "<table border=\"1\" class=\"dataframe\">\n",
       "  <thead>\n",
       "    <tr style=\"text-align: right;\">\n",
       "      <th></th>\n",
       "      <th>DM_EVENT.date_ops_start</th>\n",
       "      <th>DM_ACTIVITY.activity_code</th>\n",
       "      <th>DM_ACTIVITY.activity_memo</th>\n",
       "    </tr>\n",
       "  </thead>\n",
       "  <tbody>\n",
       "    <tr>\n",
       "      <th>0</th>\n",
       "      <td>09/01/2014</td>\n",
       "      <td>C2</td>\n",
       "      <td>Drop top plug. Cmt unit displace with 20 bbls ...</td>\n",
       "    </tr>\n",
       "    <tr>\n",
       "      <th>1</th>\n",
       "      <td>09/01/2014</td>\n",
       "      <td>C2</td>\n",
       "      <td>Drop bottom plug. Mix and pump 28 m3 of 1.90 S...</td>\n",
       "    </tr>\n",
       "    <tr>\n",
       "      <th>2</th>\n",
       "      <td>09/01/2014</td>\n",
       "      <td>C2</td>\n",
       "      <td>Drop top plug. Cement unit displace cement wit...</td>\n",
       "    </tr>\n",
       "    <tr>\n",
       "      <th>3</th>\n",
       "      <td>09/01/2014</td>\n",
       "      <td>C2</td>\n",
       "      <td>Rig pump 1.59 m3 of base oil ahead and 1.78 SG...</td>\n",
       "    </tr>\n",
       "    <tr>\n",
       "      <th>4</th>\n",
       "      <td>09/01/2014</td>\n",
       "      <td>F1</td>\n",
       "      <td>Cont drilling 6-1/8\" hole from 3121 m to 3130 ...</td>\n",
       "    </tr>\n",
       "    <tr>\n",
       "      <th>...</th>\n",
       "      <td>...</td>\n",
       "      <td>...</td>\n",
       "      <td>...</td>\n",
       "    </tr>\n",
       "    <tr>\n",
       "      <th>6301</th>\n",
       "      <td>NaN</td>\n",
       "      <td>NaN</td>\n",
       "      <td>NaN</td>\n",
       "    </tr>\n",
       "    <tr>\n",
       "      <th>6302</th>\n",
       "      <td>NaN</td>\n",
       "      <td>NaN</td>\n",
       "      <td>NaN</td>\n",
       "    </tr>\n",
       "    <tr>\n",
       "      <th>6303</th>\n",
       "      <td>NaN</td>\n",
       "      <td>NaN</td>\n",
       "      <td>NaN</td>\n",
       "    </tr>\n",
       "    <tr>\n",
       "      <th>6304</th>\n",
       "      <td>NaN</td>\n",
       "      <td>NaN</td>\n",
       "      <td>NaN</td>\n",
       "    </tr>\n",
       "    <tr>\n",
       "      <th>6305</th>\n",
       "      <td>NaN</td>\n",
       "      <td>NaN</td>\n",
       "      <td>NaN</td>\n",
       "    </tr>\n",
       "  </tbody>\n",
       "</table>\n",
       "<p>6306 rows × 3 columns</p>\n",
       "</div>"
      ],
      "text/plain": [
       "     DM_EVENT.date_ops_start DM_ACTIVITY.activity_code  \\\n",
       "0                 09/01/2014                        C2   \n",
       "1                 09/01/2014                        C2   \n",
       "2                 09/01/2014                        C2   \n",
       "3                 09/01/2014                        C2   \n",
       "4                 09/01/2014                        F1   \n",
       "...                      ...                       ...   \n",
       "6301                     NaN                       NaN   \n",
       "6302                     NaN                       NaN   \n",
       "6303                     NaN                       NaN   \n",
       "6304                     NaN                       NaN   \n",
       "6305                     NaN                       NaN   \n",
       "\n",
       "                              DM_ACTIVITY.activity_memo  \n",
       "0     Drop top plug. Cmt unit displace with 20 bbls ...  \n",
       "1     Drop bottom plug. Mix and pump 28 m3 of 1.90 S...  \n",
       "2     Drop top plug. Cement unit displace cement wit...  \n",
       "3     Rig pump 1.59 m3 of base oil ahead and 1.78 SG...  \n",
       "4     Cont drilling 6-1/8\" hole from 3121 m to 3130 ...  \n",
       "...                                                 ...  \n",
       "6301                                                NaN  \n",
       "6302                                                NaN  \n",
       "6303                                                NaN  \n",
       "6304                                                NaN  \n",
       "6305                                                NaN  \n",
       "\n",
       "[6306 rows x 3 columns]"
      ]
     },
     "execution_count": 2,
     "metadata": {},
     "output_type": "execute_result"
    }
   ],
   "source": [
    "df"
   ]
  },
  {
   "cell_type": "code",
   "execution_count": 3,
   "id": "22653832",
   "metadata": {},
   "outputs": [
    {
     "data": {
      "text/plain": [
       "Index(['DM_EVENT.date_ops_start', 'DM_ACTIVITY.activity_code',\n",
       "       'DM_ACTIVITY.activity_memo'],\n",
       "      dtype='object')"
      ]
     },
     "execution_count": 3,
     "metadata": {},
     "output_type": "execute_result"
    }
   ],
   "source": [
    "df.columns"
   ]
  },
  {
   "cell_type": "code",
   "execution_count": 4,
   "id": "53e98520",
   "metadata": {
    "scrolled": true
   },
   "outputs": [
    {
     "name": "stdout",
     "output_type": "stream",
     "text": [
      "<class 'pandas.core.frame.DataFrame'>\n",
      "RangeIndex: 6306 entries, 0 to 6305\n",
      "Data columns (total 3 columns):\n",
      " #   Column                     Non-Null Count  Dtype \n",
      "---  ------                     --------------  ----- \n",
      " 0   DM_EVENT.date_ops_start    1499 non-null   object\n",
      " 1   DM_ACTIVITY.activity_code  1499 non-null   object\n",
      " 2   DM_ACTIVITY.activity_memo  1499 non-null   object\n",
      "dtypes: object(3)\n",
      "memory usage: 147.9+ KB\n"
     ]
    }
   ],
   "source": [
    "df.info()"
   ]
  },
  {
   "cell_type": "code",
   "execution_count": 5,
   "id": "e67f0a5a",
   "metadata": {},
   "outputs": [],
   "source": [
    "# Delete rows with missing values\n",
    "df = df.dropna()"
   ]
  },
  {
   "cell_type": "code",
   "execution_count": 6,
   "id": "dee9bb68",
   "metadata": {
    "scrolled": true
   },
   "outputs": [
    {
     "data": {
      "text/html": [
       "<div>\n",
       "<style scoped>\n",
       "    .dataframe tbody tr th:only-of-type {\n",
       "        vertical-align: middle;\n",
       "    }\n",
       "\n",
       "    .dataframe tbody tr th {\n",
       "        vertical-align: top;\n",
       "    }\n",
       "\n",
       "    .dataframe thead th {\n",
       "        text-align: right;\n",
       "    }\n",
       "</style>\n",
       "<table border=\"1\" class=\"dataframe\">\n",
       "  <thead>\n",
       "    <tr style=\"text-align: right;\">\n",
       "      <th></th>\n",
       "      <th>DM_EVENT.date_ops_start</th>\n",
       "      <th>DM_ACTIVITY.activity_code</th>\n",
       "      <th>DM_ACTIVITY.activity_memo</th>\n",
       "    </tr>\n",
       "  </thead>\n",
       "  <tbody>\n",
       "    <tr>\n",
       "      <th>0</th>\n",
       "      <td>09/01/2014</td>\n",
       "      <td>C2</td>\n",
       "      <td>Drop top plug. Cmt unit displace with 20 bbls ...</td>\n",
       "    </tr>\n",
       "    <tr>\n",
       "      <th>1</th>\n",
       "      <td>09/01/2014</td>\n",
       "      <td>C2</td>\n",
       "      <td>Drop bottom plug. Mix and pump 28 m3 of 1.90 S...</td>\n",
       "    </tr>\n",
       "    <tr>\n",
       "      <th>2</th>\n",
       "      <td>09/01/2014</td>\n",
       "      <td>C2</td>\n",
       "      <td>Drop top plug. Cement unit displace cement wit...</td>\n",
       "    </tr>\n",
       "    <tr>\n",
       "      <th>3</th>\n",
       "      <td>09/01/2014</td>\n",
       "      <td>C2</td>\n",
       "      <td>Rig pump 1.59 m3 of base oil ahead and 1.78 SG...</td>\n",
       "    </tr>\n",
       "    <tr>\n",
       "      <th>4</th>\n",
       "      <td>09/01/2014</td>\n",
       "      <td>F1</td>\n",
       "      <td>Cont drilling 6-1/8\" hole from 3121 m to 3130 ...</td>\n",
       "    </tr>\n",
       "    <tr>\n",
       "      <th>...</th>\n",
       "      <td>...</td>\n",
       "      <td>...</td>\n",
       "      <td>...</td>\n",
       "    </tr>\n",
       "    <tr>\n",
       "      <th>1494</th>\n",
       "      <td>31/07/2014</td>\n",
       "      <td>P4F</td>\n",
       "      <td>M/U circulating swedge and surface line. Confi...</td>\n",
       "    </tr>\n",
       "    <tr>\n",
       "      <th>1495</th>\n",
       "      <td>31/07/2014</td>\n",
       "      <td>P4F</td>\n",
       "      <td>Continue RIH 2-7/8\" completion with 2-7/8\" 6.4...</td>\n",
       "    </tr>\n",
       "    <tr>\n",
       "      <th>1496</th>\n",
       "      <td>31/07/2014</td>\n",
       "      <td>P4F</td>\n",
       "      <td>Continue RIH with 2-7/8\" completion 6.4# L80 C...</td>\n",
       "    </tr>\n",
       "    <tr>\n",
       "      <th>1497</th>\n",
       "      <td>31/07/2014</td>\n",
       "      <td>F1</td>\n",
       "      <td>Drill 6-1/8\" hole (AGS/MWD/GrRes-NeuDens) from...</td>\n",
       "    </tr>\n",
       "    <tr>\n",
       "      <th>1498</th>\n",
       "      <td>31/07/2014</td>\n",
       "      <td>F3</td>\n",
       "      <td>Pump Tandem pill (3.2 m3 low vis and 4.8 m3 Hi...</td>\n",
       "    </tr>\n",
       "  </tbody>\n",
       "</table>\n",
       "<p>1499 rows × 3 columns</p>\n",
       "</div>"
      ],
      "text/plain": [
       "     DM_EVENT.date_ops_start DM_ACTIVITY.activity_code  \\\n",
       "0                 09/01/2014                        C2   \n",
       "1                 09/01/2014                        C2   \n",
       "2                 09/01/2014                        C2   \n",
       "3                 09/01/2014                        C2   \n",
       "4                 09/01/2014                        F1   \n",
       "...                      ...                       ...   \n",
       "1494              31/07/2014                       P4F   \n",
       "1495              31/07/2014                       P4F   \n",
       "1496              31/07/2014                       P4F   \n",
       "1497              31/07/2014                        F1   \n",
       "1498              31/07/2014                        F3   \n",
       "\n",
       "                              DM_ACTIVITY.activity_memo  \n",
       "0     Drop top plug. Cmt unit displace with 20 bbls ...  \n",
       "1     Drop bottom plug. Mix and pump 28 m3 of 1.90 S...  \n",
       "2     Drop top plug. Cement unit displace cement wit...  \n",
       "3     Rig pump 1.59 m3 of base oil ahead and 1.78 SG...  \n",
       "4     Cont drilling 6-1/8\" hole from 3121 m to 3130 ...  \n",
       "...                                                 ...  \n",
       "1494  M/U circulating swedge and surface line. Confi...  \n",
       "1495  Continue RIH 2-7/8\" completion with 2-7/8\" 6.4...  \n",
       "1496  Continue RIH with 2-7/8\" completion 6.4# L80 C...  \n",
       "1497  Drill 6-1/8\" hole (AGS/MWD/GrRes-NeuDens) from...  \n",
       "1498  Pump Tandem pill (3.2 m3 low vis and 4.8 m3 Hi...  \n",
       "\n",
       "[1499 rows x 3 columns]"
      ]
     },
     "execution_count": 6,
     "metadata": {},
     "output_type": "execute_result"
    }
   ],
   "source": [
    "df"
   ]
  },
  {
   "cell_type": "code",
   "execution_count": 7,
   "id": "9191f7df",
   "metadata": {},
   "outputs": [],
   "source": [
    "import re\n",
    "# Define the regular expression pattern\n",
    "pattern = r'(?i)loss\\s([\\d.]+)\\s(m3|bbl|bbls)'\n",
    "# (?i)loss matches loss case-insensitive in the memo.\n",
    "# \\s matches whitespace characters.\n",
    "# ([\\d.]+) matches one or more digits inside a capturing group.\n",
    "# \\s matches whitespace characters.\n",
    "# (m3|bbl|bbls) matches one of the three possible units (\"m3\", \"bbl\", or \"bbls\") inside a capturing group.\n",
    "\n",
    "# Extract the values and units using the pattern\n",
    "values = []\n",
    "for memo in df['DM_ACTIVITY.activity_memo']:\n",
    "    match = re.search(pattern, memo)\n",
    "    if match:\n",
    "        value, unit = match.groups()\n",
    "        if unit == 'm3':\n",
    "            value = float(value)\n",
    "        else:\n",
    "            value = float(value) * 0.159 # convert bbls to m3\n",
    "        values.append(value)\n",
    "    else:\n",
    "        values.append(0.0)"
   ]
  },
  {
   "cell_type": "code",
   "execution_count": 8,
   "id": "f1d8a712",
   "metadata": {},
   "outputs": [],
   "source": [
    "# Add the extracted values as a new column\n",
    "df2 = df.copy()\n",
    "df2.loc[:, 'LOSS_CIRCULATION(m3)'] = values"
   ]
  },
  {
   "cell_type": "code",
   "execution_count": 9,
   "id": "67246692",
   "metadata": {
    "scrolled": false
   },
   "outputs": [
    {
     "data": {
      "text/html": [
       "<div>\n",
       "<style scoped>\n",
       "    .dataframe tbody tr th:only-of-type {\n",
       "        vertical-align: middle;\n",
       "    }\n",
       "\n",
       "    .dataframe tbody tr th {\n",
       "        vertical-align: top;\n",
       "    }\n",
       "\n",
       "    .dataframe thead th {\n",
       "        text-align: right;\n",
       "    }\n",
       "</style>\n",
       "<table border=\"1\" class=\"dataframe\">\n",
       "  <thead>\n",
       "    <tr style=\"text-align: right;\">\n",
       "      <th></th>\n",
       "      <th>DM_EVENT.date_ops_start</th>\n",
       "      <th>DM_ACTIVITY.activity_code</th>\n",
       "      <th>DM_ACTIVITY.activity_memo</th>\n",
       "      <th>LOSS_CIRCULATION(m3)</th>\n",
       "    </tr>\n",
       "  </thead>\n",
       "  <tbody>\n",
       "    <tr>\n",
       "      <th>0</th>\n",
       "      <td>09/01/2014</td>\n",
       "      <td>C2</td>\n",
       "      <td>Drop top plug. Cmt unit displace with 20 bbls ...</td>\n",
       "      <td>0.0</td>\n",
       "    </tr>\n",
       "    <tr>\n",
       "      <th>1</th>\n",
       "      <td>09/01/2014</td>\n",
       "      <td>C2</td>\n",
       "      <td>Drop bottom plug. Mix and pump 28 m3 of 1.90 S...</td>\n",
       "      <td>6.2</td>\n",
       "    </tr>\n",
       "    <tr>\n",
       "      <th>2</th>\n",
       "      <td>09/01/2014</td>\n",
       "      <td>C2</td>\n",
       "      <td>Drop top plug. Cement unit displace cement wit...</td>\n",
       "      <td>0.0</td>\n",
       "    </tr>\n",
       "    <tr>\n",
       "      <th>3</th>\n",
       "      <td>09/01/2014</td>\n",
       "      <td>C2</td>\n",
       "      <td>Rig pump 1.59 m3 of base oil ahead and 1.78 SG...</td>\n",
       "      <td>5.0</td>\n",
       "    </tr>\n",
       "    <tr>\n",
       "      <th>4</th>\n",
       "      <td>09/01/2014</td>\n",
       "      <td>F1</td>\n",
       "      <td>Cont drilling 6-1/8\" hole from 3121 m to 3130 ...</td>\n",
       "      <td>0.0</td>\n",
       "    </tr>\n",
       "    <tr>\n",
       "      <th>...</th>\n",
       "      <td>...</td>\n",
       "      <td>...</td>\n",
       "      <td>...</td>\n",
       "      <td>...</td>\n",
       "    </tr>\n",
       "    <tr>\n",
       "      <th>1494</th>\n",
       "      <td>31/07/2014</td>\n",
       "      <td>P4F</td>\n",
       "      <td>M/U circulating swedge and surface line. Confi...</td>\n",
       "      <td>0.0</td>\n",
       "    </tr>\n",
       "    <tr>\n",
       "      <th>1495</th>\n",
       "      <td>31/07/2014</td>\n",
       "      <td>P4F</td>\n",
       "      <td>Continue RIH 2-7/8\" completion with 2-7/8\" 6.4...</td>\n",
       "      <td>0.0</td>\n",
       "    </tr>\n",
       "    <tr>\n",
       "      <th>1496</th>\n",
       "      <td>31/07/2014</td>\n",
       "      <td>P4F</td>\n",
       "      <td>Continue RIH with 2-7/8\" completion 6.4# L80 C...</td>\n",
       "      <td>0.0</td>\n",
       "    </tr>\n",
       "    <tr>\n",
       "      <th>1497</th>\n",
       "      <td>31/07/2014</td>\n",
       "      <td>F1</td>\n",
       "      <td>Drill 6-1/8\" hole (AGS/MWD/GrRes-NeuDens) from...</td>\n",
       "      <td>0.0</td>\n",
       "    </tr>\n",
       "    <tr>\n",
       "      <th>1498</th>\n",
       "      <td>31/07/2014</td>\n",
       "      <td>F3</td>\n",
       "      <td>Pump Tandem pill (3.2 m3 low vis and 4.8 m3 Hi...</td>\n",
       "      <td>0.0</td>\n",
       "    </tr>\n",
       "  </tbody>\n",
       "</table>\n",
       "<p>1499 rows × 4 columns</p>\n",
       "</div>"
      ],
      "text/plain": [
       "     DM_EVENT.date_ops_start DM_ACTIVITY.activity_code  \\\n",
       "0                 09/01/2014                        C2   \n",
       "1                 09/01/2014                        C2   \n",
       "2                 09/01/2014                        C2   \n",
       "3                 09/01/2014                        C2   \n",
       "4                 09/01/2014                        F1   \n",
       "...                      ...                       ...   \n",
       "1494              31/07/2014                       P4F   \n",
       "1495              31/07/2014                       P4F   \n",
       "1496              31/07/2014                       P4F   \n",
       "1497              31/07/2014                        F1   \n",
       "1498              31/07/2014                        F3   \n",
       "\n",
       "                              DM_ACTIVITY.activity_memo  LOSS_CIRCULATION(m3)  \n",
       "0     Drop top plug. Cmt unit displace with 20 bbls ...                   0.0  \n",
       "1     Drop bottom plug. Mix and pump 28 m3 of 1.90 S...                   6.2  \n",
       "2     Drop top plug. Cement unit displace cement wit...                   0.0  \n",
       "3     Rig pump 1.59 m3 of base oil ahead and 1.78 SG...                   5.0  \n",
       "4     Cont drilling 6-1/8\" hole from 3121 m to 3130 ...                   0.0  \n",
       "...                                                 ...                   ...  \n",
       "1494  M/U circulating swedge and surface line. Confi...                   0.0  \n",
       "1495  Continue RIH 2-7/8\" completion with 2-7/8\" 6.4...                   0.0  \n",
       "1496  Continue RIH with 2-7/8\" completion 6.4# L80 C...                   0.0  \n",
       "1497  Drill 6-1/8\" hole (AGS/MWD/GrRes-NeuDens) from...                   0.0  \n",
       "1498  Pump Tandem pill (3.2 m3 low vis and 4.8 m3 Hi...                   0.0  \n",
       "\n",
       "[1499 rows x 4 columns]"
      ]
     },
     "execution_count": 9,
     "metadata": {},
     "output_type": "execute_result"
    }
   ],
   "source": [
    "df2"
   ]
  },
  {
   "cell_type": "code",
   "execution_count": 10,
   "id": "affb9ae1",
   "metadata": {},
   "outputs": [],
   "source": [
    "# Save the transformed dataset to a new csv file\n",
    "df2.to_csv('loss-circulation-transformed.csv', index=False)"
   ]
  },
  {
   "cell_type": "code",
   "execution_count": 11,
   "id": "8f1a15fe",
   "metadata": {},
   "outputs": [
    {
     "name": "stdout",
     "output_type": "stream",
     "text": [
      "Basic Statistics of Loss Circulation:\n",
      "count    1499.000000\n",
      "mean        1.342251\n",
      "std         6.429881\n",
      "min         0.000000\n",
      "25%         0.000000\n",
      "50%         0.000000\n",
      "75%         0.000000\n",
      "max       104.622000\n",
      "\n",
      "Percentage of Missing Values in Loss Circulation: 0.00%\n"
     ]
    }
   ],
   "source": [
    "import numpy as np\n",
    "import matplotlib.pyplot as plt\n",
    "\n",
    "# Calculate basic statistics of the loss circulation values\n",
    "lc_stats = df2['LOSS_CIRCULATION(m3)'].describe()\n",
    "\n",
    "# Calculate the percentage of missing values\n",
    "lc_missing = df2['LOSS_CIRCULATION(m3)'].isna().mean() * 100\n",
    "\n",
    "# Print the basic statistics and percentage of missing values\n",
    "print(\"Basic Statistics of Loss Circulation:\")\n",
    "print(lc_stats.to_string())\n",
    "print(\"\\nPercentage of Missing Values in Loss Circulation: {:.2f}%\".format(lc_missing))"
   ]
  },
  {
   "cell_type": "code",
   "execution_count": 12,
   "id": "a143097a",
   "metadata": {},
   "outputs": [
    {
     "data": {
      "text/plain": [
       "218"
      ]
     },
     "execution_count": 12,
     "metadata": {},
     "output_type": "execute_result"
    }
   ],
   "source": [
    "np.count_nonzero(df2['LOSS_CIRCULATION(m3)'])"
   ]
  },
  {
   "cell_type": "code",
   "execution_count": 13,
   "id": "b2d8e5b6",
   "metadata": {},
   "outputs": [
    {
     "data": {
      "text/plain": [
       "1281"
      ]
     },
     "execution_count": 13,
     "metadata": {},
     "output_type": "execute_result"
    }
   ],
   "source": [
    "np.count_nonzero(df2['LOSS_CIRCULATION(m3)'] == 0)"
   ]
  },
  {
   "cell_type": "code",
   "execution_count": 14,
   "id": "35f43984",
   "metadata": {
    "scrolled": false
   },
   "outputs": [
    {
     "data": {
      "image/png": "[encoded data removed]",
      "text/plain": [
       "<Figure size 640x480 with 1 Axes>"
      ]
     },
     "metadata": {},
     "output_type": "display_data"
    }
   ],
   "source": [
    "# Create a scatter plot of the loss circulation values\n",
    "fig, ax = plt.subplots()\n",
    "ax.scatter(range(len(df2['LOSS_CIRCULATION(m3)'])), df2['LOSS_CIRCULATION(m3)'], s=10)\n",
    "ax.set_xlabel(\"Data point\")\n",
    "ax.set_ylabel(\"Loss circulation (m3)\")\n",
    "ax.set_title(\"Distribution of loss circulation\")\n",
    "plt.show()"
   ]
  },
  {
   "cell_type": "code",
   "execution_count": 15,
   "id": "3792a6d8",
   "metadata": {},
   "outputs": [
    {
     "data": {
      "image/png": "[encoded data removed]",
      "text/plain": [
       "<Figure size 1500x500 with 1 Axes>"
      ]
     },
     "metadata": {},
     "output_type": "display_data"
    }
   ],
   "source": [
    "# Plot the graph\n",
    "fig, ax = plt.subplots(figsize=(15,5))\n",
    "df2.groupby(\"DM_ACTIVITY.activity_code\")[\"LOSS_CIRCULATION(m3)\"].sum().sort_values(ascending=False).plot(kind=\"bar\", ax=ax)\n",
    "ax.set_xlabel(\"Activity Code\")\n",
    "ax.set_ylabel(\"Loss Circulation(m3)\")\n",
    "ax.set_title(\"Total loss circulation of Activity code\")\n",
    "\n",
    "plt.show()"
   ]
  },
  {
   "cell_type": "code",
   "execution_count": 16,
   "id": "105dbebf",
   "metadata": {},
   "outputs": [
    {
     "name": "stdout",
     "output_type": "stream",
     "text": [
      "\n",
      "Top 3 Activity Codes with the Most Loss Circulation:\n",
      "DM_ACTIVITY.activity_code\n",
      "C2    479.763\n",
      "C1    294.958\n",
      "B2    258.534\n"
     ]
    }
   ],
   "source": [
    "# Find the top 3 activity codes from which loss circulation occurs the most\n",
    "lc_by_activity = df2.groupby('DM_ACTIVITY.activity_code')['LOSS_CIRCULATION(m3)'].sum().sort_values(ascending=False)\n",
    "top3_activities = lc_by_activity.head(3)\n",
    "print(\"\\nTop 3 Activity Codes with the Most Loss Circulation:\")\n",
    "print(top3_activities.to_string())"
   ]
  }
 ],
 "metadata": {
  "kernelspec": {
   "display_name": "Python 3 (ipykernel)",
   "language": "python",
   "name": "python3"
  },
  "language_info": {
   "codemirror_mode": {
    "name": "ipython",
    "version": 3
   },
   "file_extension": ".py",
   "mimetype": "text/x-python",
   "name": "python",
   "nbconvert_exporter": "python",
   "pygments_lexer": "ipython3",
   "version": "3.10.9"
  }
 },
 "nbformat": 4,
 "nbformat_minor": 5
}
